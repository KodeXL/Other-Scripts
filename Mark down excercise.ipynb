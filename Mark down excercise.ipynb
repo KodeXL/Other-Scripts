{
  "metadata": {
    "language_info": {
      "codemirror_mode": {
        "name": "python",
        "version": 3
      },
      "file_extension": ".py",
      "mimetype": "text/x-python",
      "name": "python",
      "nbconvert_exporter": "python",
      "pygments_lexer": "ipython3",
      "version": "3.8"
    },
    "kernelspec": {
      "name": "python",
      "display_name": "Python (Pyodide)",
      "language": "python"
    }
  },
  "nbformat_minor": 4,
  "nbformat": 4,
  "cells": [
    {
      "cell_type": "markdown",
      "source": "# H1: This is a level 1 Heading\n## *H2: This is a level 2 Heading* - this is level two italisized \n## _H2: This is a level 2 Heading_ - this is level two italisized \n##  H2: This is a level 2 Heading\n### **H3: This is a level 3 Heading** - this is level three bold \n### ***H3: This is a level 3 Heading*** - this is level three bold and italic\n### __H3: This is a level 3 Heading__ - this is level three bold \n### H3:  This is a level 3 Heading \n#### H4: This is a level 4 Heading\n##### H5: This is a level 5 Heading\n###### H6: This is a level 6 Heading\n",
      "metadata": {
        "tags": []
      }
    },
    {
      "cell_type": "markdown",
      "source": "[Skills Network](https://skills.network/) ",
      "metadata": {}
    },
    {
      "cell_type": "markdown",
      "source": "<https://skills.network/ >",
      "metadata": {}
    },
    {
      "cell_type": "markdown",
      "source": "# Execute it as a markdown cell\nLOGO: ![This is the skills network logo](https://cf-courses-data.s3.us.cloud-object-storage.appdomain.cloud/assets/logos/SN_web_lightmode.png)",
      "metadata": {}
    },
    {
      "cell_type": "markdown",
      "source": "### Create Tables in Markdown\n\n| Country Name | Capital |\n|-|-|\n| United States | Washington DC |\n| Australia | Canberra |\n| India | New Delhi |\n\n### Create ordered and unordered lists in Markdown\n\n#### Unordered List\n- First item using dashes\n- Second item using dashes\n- Third item using dashes\n- Fourth item using dashes\n\n* First item using asterisks\n* Second item using asterisks\n* Third item using asterisks\n* Fourth item using asterisks\n\n+ First item using plus\n+ Second item using plus\n+ Third item using plus\n+ Fourth item using plus\n\n#### Ordered List\n1. First item\n2. Second item\n3. Third item\n4. Fourth item\n\n",
      "metadata": {}
    },
    {
      "cell_type": "markdown",
      "source": "## Welcome to Python programming\nLauncher:![This is SN labs New Launcher](https://cf-courses-data.s3.us.cloud-object-storage.appdomain.cloud/IBMDeveloperSkillsNetwork-DS0105EN-SkillsNetwork/labs/Labs_V4/images/Launcher.png)",
      "metadata": {
        "tags": []
      }
    },
    {
      "cell_type": "markdown",
      "source": "[Tools For Data Science](https://www.coursera.org/learn/open-source-tools-for-data-science/home)",
      "metadata": {}
    },
    {
      "cell_type": "markdown",
      "source": "|Fruits|Quantity(Kg)|Price(Rupee)|\n|-|-|-|\n|Apple|2|500|\n|Orange|1|200|\n|Mango|3|1000|\n|Grapes|2|400|",
      "metadata": {}
    },
    {
      "cell_type": "markdown",
      "source": "### Ordered list \n1. Python\n2. Java\n3. C++\n4. C",
      "metadata": {}
    },
    {
      "cell_type": "markdown",
      "source": "__You can find more rules for Markdown formatting in this Markdown Cheatsheet:__ [Github Markdown Cheatsheet](https://github.com/adam-p/markdown-here/wiki/Markdown-Cheatsheet)",
      "metadata": {}
    },
    {
      "cell_type": "code",
      "source": "",
      "metadata": {},
      "execution_count": null,
      "outputs": []
    }
  ]
}